{
 "cells": [
  {
   "cell_type": "markdown",
   "metadata": {},
   "source": [
    "## Logistic Regression"
   ]
  },
  {
   "cell_type": "code",
   "execution_count": 675,
   "metadata": {},
   "outputs": [
    {
     "name": "stderr",
     "output_type": "stream",
     "text": [
      "Installing package into 'C:/Users/shett/Documents/R/win-library/3.5'\n",
      "(as 'lib' is unspecified)\n"
     ]
    },
    {
     "ename": "ERROR",
     "evalue": "Error in contrib.url(repos, \"source\"): trying to use CRAN without setting a mirror\n",
     "output_type": "error",
     "traceback": [
      "Error in contrib.url(repos, \"source\"): trying to use CRAN without setting a mirror\nTraceback:\n",
      "1. install.packages(\"ISLR\")",
      "2. contrib.url(repos, \"source\")",
      "3. stop(\"trying to use CRAN without setting a mirror\")"
     ]
    }
   ],
   "source": [
    "install.packages(\"ISLR\")"
   ]
  },
  {
   "cell_type": "code",
   "execution_count": 676,
   "metadata": {},
   "outputs": [],
   "source": [
    "library(\"ISLR\")"
   ]
  },
  {
   "cell_type": "code",
   "execution_count": 677,
   "metadata": {},
   "outputs": [
    {
     "data": {
      "text/html": [
       "<table>\n",
       "<thead><tr><th scope=col>X</th><th scope=col>Age</th><th scope=col>Sex</th><th scope=col>ChestPain</th><th scope=col>RestBP</th><th scope=col>Chol</th><th scope=col>Fbs</th><th scope=col>RestECG</th><th scope=col>MaxHR</th><th scope=col>ExAng</th><th scope=col>Oldpeak</th><th scope=col>Slope</th><th scope=col>Ca</th><th scope=col>Thal</th><th scope=col>AHD</th></tr></thead>\n",
       "<tbody>\n",
       "\t<tr><td>1           </td><td>63          </td><td>1           </td><td>typical     </td><td>145         </td><td>233         </td><td>1           </td><td>2           </td><td>150         </td><td>0           </td><td>2.3         </td><td>3           </td><td>0           </td><td>fixed       </td><td>No          </td></tr>\n",
       "\t<tr><td>2           </td><td>67          </td><td>1           </td><td>asymptomatic</td><td>160         </td><td>286         </td><td>0           </td><td>2           </td><td>108         </td><td>1           </td><td>1.5         </td><td>2           </td><td>3           </td><td>normal      </td><td>Yes         </td></tr>\n",
       "\t<tr><td>3           </td><td>67          </td><td>1           </td><td>asymptomatic</td><td>120         </td><td>229         </td><td>0           </td><td>2           </td><td>129         </td><td>1           </td><td>2.6         </td><td>2           </td><td>2           </td><td>reversable  </td><td>Yes         </td></tr>\n",
       "\t<tr><td>4           </td><td>37          </td><td>1           </td><td>nonanginal  </td><td>130         </td><td>250         </td><td>0           </td><td>0           </td><td>187         </td><td>0           </td><td>3.5         </td><td>3           </td><td>0           </td><td>normal      </td><td>No          </td></tr>\n",
       "\t<tr><td>5           </td><td>41          </td><td>0           </td><td>nontypical  </td><td>130         </td><td>204         </td><td>0           </td><td>2           </td><td>172         </td><td>0           </td><td>1.4         </td><td>1           </td><td>0           </td><td>normal      </td><td>No          </td></tr>\n",
       "</tbody>\n",
       "</table>\n"
      ],
      "text/latex": [
       "\\begin{tabular}{r|lllllllllllllll}\n",
       " X & Age & Sex & ChestPain & RestBP & Chol & Fbs & RestECG & MaxHR & ExAng & Oldpeak & Slope & Ca & Thal & AHD\\\\\n",
       "\\hline\n",
       "\t 1            & 63           & 1            & typical      & 145          & 233          & 1            & 2            & 150          & 0            & 2.3          & 3            & 0            & fixed        & No          \\\\\n",
       "\t 2            & 67           & 1            & asymptomatic & 160          & 286          & 0            & 2            & 108          & 1            & 1.5          & 2            & 3            & normal       & Yes         \\\\\n",
       "\t 3            & 67           & 1            & asymptomatic & 120          & 229          & 0            & 2            & 129          & 1            & 2.6          & 2            & 2            & reversable   & Yes         \\\\\n",
       "\t 4            & 37           & 1            & nonanginal   & 130          & 250          & 0            & 0            & 187          & 0            & 3.5          & 3            & 0            & normal       & No          \\\\\n",
       "\t 5            & 41           & 0            & nontypical   & 130          & 204          & 0            & 2            & 172          & 0            & 1.4          & 1            & 0            & normal       & No          \\\\\n",
       "\\end{tabular}\n"
      ],
      "text/markdown": [
       "\n",
       "X | Age | Sex | ChestPain | RestBP | Chol | Fbs | RestECG | MaxHR | ExAng | Oldpeak | Slope | Ca | Thal | AHD | \n",
       "|---|---|---|---|---|\n",
       "| 1            | 63           | 1            | typical      | 145          | 233          | 1            | 2            | 150          | 0            | 2.3          | 3            | 0            | fixed        | No           | \n",
       "| 2            | 67           | 1            | asymptomatic | 160          | 286          | 0            | 2            | 108          | 1            | 1.5          | 2            | 3            | normal       | Yes          | \n",
       "| 3            | 67           | 1            | asymptomatic | 120          | 229          | 0            | 2            | 129          | 1            | 2.6          | 2            | 2            | reversable   | Yes          | \n",
       "| 4            | 37           | 1            | nonanginal   | 130          | 250          | 0            | 0            | 187          | 0            | 3.5          | 3            | 0            | normal       | No           | \n",
       "| 5            | 41           | 0            | nontypical   | 130          | 204          | 0            | 2            | 172          | 0            | 1.4          | 1            | 0            | normal       | No           | \n",
       "\n",
       "\n"
      ],
      "text/plain": [
       "  X Age Sex ChestPain    RestBP Chol Fbs RestECG MaxHR ExAng Oldpeak Slope Ca\n",
       "1 1 63  1   typical      145    233  1   2       150   0     2.3     3     0 \n",
       "2 2 67  1   asymptomatic 160    286  0   2       108   1     1.5     2     3 \n",
       "3 3 67  1   asymptomatic 120    229  0   2       129   1     2.6     2     2 \n",
       "4 4 37  1   nonanginal   130    250  0   0       187   0     3.5     3     0 \n",
       "5 5 41  0   nontypical   130    204  0   2       172   0     1.4     1     0 \n",
       "  Thal       AHD\n",
       "1 fixed      No \n",
       "2 normal     Yes\n",
       "3 reversable Yes\n",
       "4 normal     No \n",
       "5 normal     No "
      ]
     },
     "metadata": {},
     "output_type": "display_data"
    }
   ],
   "source": [
    "heart <- read.csv(\"Heart.csv\")\n",
    "head(heart,5)"
   ]
  },
  {
   "cell_type": "code",
   "execution_count": 678,
   "metadata": {},
   "outputs": [
    {
     "data": {
      "text/plain": [
       "       X              Age             Sex                ChestPain  \n",
       " Min.   :  1.0   Min.   :29.00   Min.   :0.0000   asymptomatic:144  \n",
       " 1st Qu.: 76.5   1st Qu.:48.00   1st Qu.:0.0000   nonanginal  : 86  \n",
       " Median :152.0   Median :56.00   Median :1.0000   nontypical  : 50  \n",
       " Mean   :152.0   Mean   :54.44   Mean   :0.6799   typical     : 23  \n",
       " 3rd Qu.:227.5   3rd Qu.:61.00   3rd Qu.:1.0000                     \n",
       " Max.   :303.0   Max.   :77.00   Max.   :1.0000                     \n",
       "                                                                    \n",
       "     RestBP           Chol            Fbs            RestECG      \n",
       " Min.   : 94.0   Min.   :126.0   Min.   :0.0000   Min.   :0.0000  \n",
       " 1st Qu.:120.0   1st Qu.:211.0   1st Qu.:0.0000   1st Qu.:0.0000  \n",
       " Median :130.0   Median :241.0   Median :0.0000   Median :1.0000  \n",
       " Mean   :131.7   Mean   :246.7   Mean   :0.1485   Mean   :0.9901  \n",
       " 3rd Qu.:140.0   3rd Qu.:275.0   3rd Qu.:0.0000   3rd Qu.:2.0000  \n",
       " Max.   :200.0   Max.   :564.0   Max.   :1.0000   Max.   :2.0000  \n",
       "                                                                  \n",
       "     MaxHR           ExAng           Oldpeak         Slope      \n",
       " Min.   : 71.0   Min.   :0.0000   Min.   :0.00   Min.   :1.000  \n",
       " 1st Qu.:133.5   1st Qu.:0.0000   1st Qu.:0.00   1st Qu.:1.000  \n",
       " Median :153.0   Median :0.0000   Median :0.80   Median :2.000  \n",
       " Mean   :149.6   Mean   :0.3267   Mean   :1.04   Mean   :1.601  \n",
       " 3rd Qu.:166.0   3rd Qu.:1.0000   3rd Qu.:1.60   3rd Qu.:2.000  \n",
       " Max.   :202.0   Max.   :1.0000   Max.   :6.20   Max.   :3.000  \n",
       "                                                                \n",
       "       Ca                 Thal      AHD     \n",
       " Min.   :0.0000   fixed     : 18   No :164  \n",
       " 1st Qu.:0.0000   normal    :166   Yes:139  \n",
       " Median :0.0000   reversable:117            \n",
       " Mean   :0.6722   NA's      :  2            \n",
       " 3rd Qu.:1.0000                             \n",
       " Max.   :3.0000                             \n",
       " NA's   :4                                  "
      ]
     },
     "metadata": {},
     "output_type": "display_data"
    }
   ],
   "source": [
    "summary(heart)"
   ]
  },
  {
   "cell_type": "code",
   "execution_count": 679,
   "metadata": {},
   "outputs": [],
   "source": [
    "hc <- heart\n",
    "hc$ChestPain <- NULL\n",
    "hc$Thal <- NULL"
   ]
  },
  {
   "cell_type": "code",
   "execution_count": 680,
   "metadata": {},
   "outputs": [
    {
     "data": {
      "text/html": [
       "<table>\n",
       "<thead><tr><th scope=col>X</th><th scope=col>Age</th><th scope=col>Sex</th><th scope=col>RestBP</th><th scope=col>Chol</th><th scope=col>Fbs</th><th scope=col>RestECG</th><th scope=col>MaxHR</th><th scope=col>ExAng</th><th scope=col>Oldpeak</th><th scope=col>Slope</th><th scope=col>Ca</th><th scope=col>AHD</th></tr></thead>\n",
       "<tbody>\n",
       "\t<tr><td>1  </td><td>63 </td><td>1  </td><td>145</td><td>233</td><td>1  </td><td>2  </td><td>150</td><td>0  </td><td>2.3</td><td>3  </td><td>0  </td><td>No </td></tr>\n",
       "\t<tr><td>2  </td><td>67 </td><td>1  </td><td>160</td><td>286</td><td>0  </td><td>2  </td><td>108</td><td>1  </td><td>1.5</td><td>2  </td><td>3  </td><td>Yes</td></tr>\n",
       "\t<tr><td>3  </td><td>67 </td><td>1  </td><td>120</td><td>229</td><td>0  </td><td>2  </td><td>129</td><td>1  </td><td>2.6</td><td>2  </td><td>2  </td><td>Yes</td></tr>\n",
       "\t<tr><td>4  </td><td>37 </td><td>1  </td><td>130</td><td>250</td><td>0  </td><td>0  </td><td>187</td><td>0  </td><td>3.5</td><td>3  </td><td>0  </td><td>No </td></tr>\n",
       "\t<tr><td>5  </td><td>41 </td><td>0  </td><td>130</td><td>204</td><td>0  </td><td>2  </td><td>172</td><td>0  </td><td>1.4</td><td>1  </td><td>0  </td><td>No </td></tr>\n",
       "\t<tr><td>6  </td><td>56 </td><td>1  </td><td>120</td><td>236</td><td>0  </td><td>0  </td><td>178</td><td>0  </td><td>0.8</td><td>1  </td><td>0  </td><td>No </td></tr>\n",
       "</tbody>\n",
       "</table>\n"
      ],
      "text/latex": [
       "\\begin{tabular}{r|lllllllllllll}\n",
       " X & Age & Sex & RestBP & Chol & Fbs & RestECG & MaxHR & ExAng & Oldpeak & Slope & Ca & AHD\\\\\n",
       "\\hline\n",
       "\t 1   & 63  & 1   & 145 & 233 & 1   & 2   & 150 & 0   & 2.3 & 3   & 0   & No \\\\\n",
       "\t 2   & 67  & 1   & 160 & 286 & 0   & 2   & 108 & 1   & 1.5 & 2   & 3   & Yes\\\\\n",
       "\t 3   & 67  & 1   & 120 & 229 & 0   & 2   & 129 & 1   & 2.6 & 2   & 2   & Yes\\\\\n",
       "\t 4   & 37  & 1   & 130 & 250 & 0   & 0   & 187 & 0   & 3.5 & 3   & 0   & No \\\\\n",
       "\t 5   & 41  & 0   & 130 & 204 & 0   & 2   & 172 & 0   & 1.4 & 1   & 0   & No \\\\\n",
       "\t 6   & 56  & 1   & 120 & 236 & 0   & 0   & 178 & 0   & 0.8 & 1   & 0   & No \\\\\n",
       "\\end{tabular}\n"
      ],
      "text/markdown": [
       "\n",
       "X | Age | Sex | RestBP | Chol | Fbs | RestECG | MaxHR | ExAng | Oldpeak | Slope | Ca | AHD | \n",
       "|---|---|---|---|---|---|\n",
       "| 1   | 63  | 1   | 145 | 233 | 1   | 2   | 150 | 0   | 2.3 | 3   | 0   | No  | \n",
       "| 2   | 67  | 1   | 160 | 286 | 0   | 2   | 108 | 1   | 1.5 | 2   | 3   | Yes | \n",
       "| 3   | 67  | 1   | 120 | 229 | 0   | 2   | 129 | 1   | 2.6 | 2   | 2   | Yes | \n",
       "| 4   | 37  | 1   | 130 | 250 | 0   | 0   | 187 | 0   | 3.5 | 3   | 0   | No  | \n",
       "| 5   | 41  | 0   | 130 | 204 | 0   | 2   | 172 | 0   | 1.4 | 1   | 0   | No  | \n",
       "| 6   | 56  | 1   | 120 | 236 | 0   | 0   | 178 | 0   | 0.8 | 1   | 0   | No  | \n",
       "\n",
       "\n"
      ],
      "text/plain": [
       "  X Age Sex RestBP Chol Fbs RestECG MaxHR ExAng Oldpeak Slope Ca AHD\n",
       "1 1 63  1   145    233  1   2       150   0     2.3     3     0  No \n",
       "2 2 67  1   160    286  0   2       108   1     1.5     2     3  Yes\n",
       "3 3 67  1   120    229  0   2       129   1     2.6     2     2  Yes\n",
       "4 4 37  1   130    250  0   0       187   0     3.5     3     0  No \n",
       "5 5 41  0   130    204  0   2       172   0     1.4     1     0  No \n",
       "6 6 56  1   120    236  0   0       178   0     0.8     1     0  No "
      ]
     },
     "metadata": {},
     "output_type": "display_data"
    }
   ],
   "source": [
    "head(hc,6)"
   ]
  },
  {
   "cell_type": "code",
   "execution_count": 681,
   "metadata": {},
   "outputs": [
    {
     "data": {
      "text/plain": [
       "       X              Age             Sex             RestBP     \n",
       " Min.   :  1.0   Min.   :29.00   Min.   :0.0000   Min.   : 94.0  \n",
       " 1st Qu.: 76.5   1st Qu.:48.00   1st Qu.:0.0000   1st Qu.:120.0  \n",
       " Median :152.0   Median :56.00   Median :1.0000   Median :130.0  \n",
       " Mean   :152.0   Mean   :54.44   Mean   :0.6799   Mean   :131.7  \n",
       " 3rd Qu.:227.5   3rd Qu.:61.00   3rd Qu.:1.0000   3rd Qu.:140.0  \n",
       " Max.   :303.0   Max.   :77.00   Max.   :1.0000   Max.   :200.0  \n",
       "                                                                 \n",
       "      Chol            Fbs            RestECG           MaxHR      \n",
       " Min.   :126.0   Min.   :0.0000   Min.   :0.0000   Min.   : 71.0  \n",
       " 1st Qu.:211.0   1st Qu.:0.0000   1st Qu.:0.0000   1st Qu.:133.5  \n",
       " Median :241.0   Median :0.0000   Median :1.0000   Median :153.0  \n",
       " Mean   :246.7   Mean   :0.1485   Mean   :0.9901   Mean   :149.6  \n",
       " 3rd Qu.:275.0   3rd Qu.:0.0000   3rd Qu.:2.0000   3rd Qu.:166.0  \n",
       " Max.   :564.0   Max.   :1.0000   Max.   :2.0000   Max.   :202.0  \n",
       "                                                                  \n",
       "     ExAng           Oldpeak         Slope             Ca          AHD     \n",
       " Min.   :0.0000   Min.   :0.00   Min.   :1.000   Min.   :0.0000   No :164  \n",
       " 1st Qu.:0.0000   1st Qu.:0.00   1st Qu.:1.000   1st Qu.:0.0000   Yes:139  \n",
       " Median :0.0000   Median :0.80   Median :2.000   Median :0.0000            \n",
       " Mean   :0.3267   Mean   :1.04   Mean   :1.601   Mean   :0.6722            \n",
       " 3rd Qu.:1.0000   3rd Qu.:1.60   3rd Qu.:2.000   3rd Qu.:1.0000            \n",
       " Max.   :1.0000   Max.   :6.20   Max.   :3.000   Max.   :3.0000            \n",
       "                                                 NA's   :4                 "
      ]
     },
     "metadata": {},
     "output_type": "display_data"
    }
   ],
   "source": [
    "summary(hc)"
   ]
  },
  {
   "cell_type": "markdown",
   "metadata": {},
   "source": [
    "### 4a."
   ]
  },
  {
   "cell_type": "markdown",
   "metadata": {},
   "source": [
    "Data Set Information:\n",
    "This is the Heart dataset from the ISLR package. This dataset has p = 11 features and k=2 where the 2 classes indicate the presence or absence of Angiographic Heart Disease (Yes,No).  \n",
    "Attribute Information:\n",
    "Only 12 attributes used: \n",
    "1. (Age) - age in years\n",
    "2. (Sex) - sex (1 = male; 0 = female)\n",
    "3. (RestBP) -  resting blood pressure (in mm Hg on admission to the hospital) \n",
    "4. (Chol) - serum cholestoral in mg/dl \n",
    "5. (Fbs) - (fasting blood sugar > 120 mg/dl) (1 = true; 0 = false) \n",
    "6. (RestECG) - resting electrocardiographic results \n",
    "7. (MaxHR) - Maximum Heart Rate\n",
    "8. (ExAng) - exercise induced angina (1 = yes; 0 = no) \n",
    "9. (Oldpeak) - ST depression induced by exercise relative to rest \n",
    "10. (Slope) - the slope of the peak exercise ST segment \n",
    "11. (Ca) - number of major vessels (0-3) colored by flourosopy \n",
    "12. (AHD) (the predicted attribute) - Angiographic Heart Disease Status\n",
    "\n",
    "Sample Size in each class for AHD\n",
    "1. k = 1 = No = 164 observations\n",
    "2. k = 2 = Yes = 139 observations\n",
    "\n",
    "All variables are quantitative"
   ]
  },
  {
   "cell_type": "code",
   "execution_count": 682,
   "metadata": {},
   "outputs": [
    {
     "data": {
      "image/png": "[encoded data removed]",
      "text/plain": [
       "plot without title"
      ]
     },
     "metadata": {},
     "output_type": "display_data"
    }
   ],
   "source": [
    "par(mfrow=c(3,4))\n",
    "plot(x=hc$Age,y=hc$AHD)\n",
    "plot(x=hc$Sex,y=hc$AHD)\n",
    "plot(x=hc$RestBP,y=hc$AHD)\n",
    "plot(x=hc$Chol,y=hc$AHD)\n",
    "plot(x=hc$Fbs,y=hc$AHD)\n",
    "plot(x=hc$RestECG,y=hc$AHD)\n",
    "plot(x=hc$MaxHR,y=hc$AHD)\n",
    "plot(x=hc$ExAng,y=hc$AHD)\n",
    "plot(x=hc$Oldpeak,y=hc$AHD)\n",
    "plot(x=hc$Slope,y=hc$AHD)\n",
    "plot(x=hc$Ca,y=hc$AHD)"
   ]
  },
  {
   "cell_type": "markdown",
   "metadata": {},
   "source": [
    "The variables Slope, Ca, ExAng, RestECG, Fbs and Sex are variables with fixed values. Hence it is difficult to predict the outcome of Y(AHD) based on the scatterplots for these variables.\n",
    "\n",
    "In the case of Age, Chol and OldPeak the spread of data across the X axis is more or less the same for both Y = 1 or Y = 2 and hence there seems to be no discernible trend in the scatter plots that would help predict Y(AHD)\n",
    "\n",
    "RestBP - Based on the scatterplot alone there is a slight positive correlation between RestBP and Y(AHD)\n",
    "\n",
    "MaxHR - Based on the scatterplot alone there is a slight negative correlation between MaxHR and Y(AHD)\n",
    "\n"
   ]
  },
  {
   "cell_type": "code",
   "execution_count": 683,
   "metadata": {},
   "outputs": [
    {
     "data": {
      "text/plain": [
       "\n",
       "Call:\n",
       "glm(formula = AHD ~ Age + Sex + RestBP + Chol + Fbs + RestECG + \n",
       "    MaxHR + ExAng + Oldpeak + Slope + Ca, family = binomial(), \n",
       "    data = hc)\n",
       "\n",
       "Deviance Residuals: \n",
       "    Min       1Q   Median       3Q      Max  \n",
       "-2.6250  -0.5598  -0.2238   0.5311   2.5436  \n",
       "\n",
       "Coefficients:\n",
       "             Estimate Std. Error z value Pr(>|z|)    \n",
       "(Intercept) -3.536218   2.460752  -1.437  0.15070    \n",
       "Age         -0.016989   0.022313  -0.761  0.44643    \n",
       "Sex          1.790264   0.415343   4.310 1.63e-05 ***\n",
       "RestBP       0.021924   0.010099   2.171  0.02994 *  \n",
       "Chol         0.006570   0.003629   1.810  0.07027 .  \n",
       "Fbs         -0.980675   0.490803  -1.998  0.04571 *  \n",
       "RestECG      0.131016   0.170218   0.770  0.44148    \n",
       "MaxHR       -0.027097   0.009374  -2.891  0.00384 ** \n",
       "ExAng        1.512324   0.369133   4.097 4.19e-05 ***\n",
       "Oldpeak      0.242883   0.193560   1.255  0.20954    \n",
       "Slope        0.677031   0.337920   2.004  0.04512 *  \n",
       "Ca           1.336411   0.245082   5.453 4.95e-08 ***\n",
       "---\n",
       "Signif. codes:  0 '***' 0.001 '**' 0.01 '*' 0.05 '.' 0.1 ' ' 1\n",
       "\n",
       "(Dispersion parameter for binomial family taken to be 1)\n",
       "\n",
       "    Null deviance: 412.73  on 298  degrees of freedom\n",
       "Residual deviance: 233.12  on 287  degrees of freedom\n",
       "  (4 observations deleted due to missingness)\n",
       "AIC: 257.12\n",
       "\n",
       "Number of Fisher Scoring iterations: 5\n"
      ]
     },
     "metadata": {},
     "output_type": "display_data"
    }
   ],
   "source": [
    "logfit <- glm(AHD ~ Age+Sex+RestBP+Chol+Fbs+RestECG+MaxHR+ExAng+Oldpeak+Slope+Ca,data=hc,family=binomial())\n",
    "summary(logfit)"
   ]
  },
  {
   "cell_type": "markdown",
   "metadata": {},
   "source": [
    "According to the model in c we can reject the variables Age, Chol, RestECG, Oldpeak because the p values are greater than significance level 0.05. While the impact of RestECG was difficult to determine from the scatterplots alone, we were able to see that Age, Chol and Oldpeak had no impact on AHD based on the scatterplots alone."
   ]
  },
  {
   "cell_type": "markdown",
   "metadata": {},
   "source": [
    "According to the model in c X1 = Age. It has a coefficient of -0.016989. Therefore a one unit increase in Age leads to a roughly 0.017 unit decrease in the log odds for AHD."
   ]
  }
 ],
 "metadata": {
  "kernelspec": {
   "display_name": "Python 3",
   "language": "python",
   "name": "python3"
  },
  "language_info": {
   "codemirror_mode": {
    "name": "ipython",
    "version": 3
   },
   "file_extension": ".py",
   "mimetype": "text/x-python",
   "name": "python",
   "nbconvert_exporter": "python",
   "pygments_lexer": "ipython3",
   "version": "3.7.0"
  }
 },
 "nbformat": 4,
 "nbformat_minor": 2
}
